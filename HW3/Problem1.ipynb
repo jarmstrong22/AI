{
  "nbformat": 4,
  "nbformat_minor": 0,
  "metadata": {
    "colab": {
      "provenance": [],
      "authorship_tag": "ABX9TyMpAozmplv1+EjJzywBQQS0",
      "include_colab_link": true
    },
    "kernelspec": {
      "name": "python3",
      "display_name": "Python 3"
    },
    "language_info": {
      "name": "python"
    }
  },
  "cells": [
    {
      "cell_type": "markdown",
      "metadata": {
        "id": "view-in-github",
        "colab_type": "text"
      },
      "source": [
        "<a href=\"https://colab.research.google.com/github/jarmstrong22/AI/blob/main/HW3/Problem1.ipynb\" target=\"_parent\"><img src=\"https://colab.research.google.com/assets/colab-badge.svg\" alt=\"Open In Colab\"/></a>"
      ]
    },
    {
      "cell_type": "code",
      "execution_count": 1,
      "metadata": {
        "colab": {
          "base_uri": "https://localhost:8080/"
        },
        "id": "Bl3ymXWi-NKT",
        "outputId": "ea6e7707-b562-4a04-f7dd-05f988ce723f"
      },
      "outputs": [
        {
          "output_type": "stream",
          "name": "stdout",
          "text": [
            "['Amy', 'Anna']\n"
          ]
        }
      ],
      "source": [
        "def find_friends(graph, user, k):\n",
        "    if user not in graph:\n",
        "        return []\n",
        "\n",
        "    visited = set()\n",
        "    queue = [(user, 0)]  # (node, level)\n",
        "    result = []\n",
        "\n",
        "    while queue:\n",
        "        current_user, level = queue.pop(0)\n",
        "\n",
        "        if level == k:\n",
        "            result.append(current_user)\n",
        "            continue\n",
        "\n",
        "        for friend in graph[current_user]:\n",
        "            if friend not in visited:\n",
        "                visited.add(friend)\n",
        "                queue.append((friend, level + 1))\n",
        "\n",
        "    return result\n",
        "\n",
        "# Example graph representation\n",
        "graph = {\n",
        "    'Bob': ['Pam','Rob','Richard'],\n",
        "    'Rob': ['Bob'],\n",
        "    'Richard': ['Richard'],\n",
        "    'Pam': ['Bob', 'Roger', 'Peter'],\n",
        "    'Roger': ['Pam', 'Amy'],\n",
        "    'Peter': ['Pam', 'Anna'],\n",
        "    'Amy': ['Roger'],\n",
        "    'Anna': ['Peter']\n",
        "}\n",
        "\n",
        "# Test the function\n",
        "kth_level_friends = find_friends(graph, 'Bob', 3)\n",
        "print(kth_level_friends)\n"
      ]
    }
  ]
}