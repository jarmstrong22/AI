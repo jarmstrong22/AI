{
  "nbformat": 4,
  "nbformat_minor": 0,
  "metadata": {
    "colab": {
      "provenance": [],
      "authorship_tag": "ABX9TyMRiuiLTJKsB8mKYM5zFXyr",
      "include_colab_link": true
    },
    "kernelspec": {
      "name": "python3",
      "display_name": "Python 3"
    },
    "language_info": {
      "name": "python"
    }
  },
  "cells": [
    {
      "cell_type": "markdown",
      "metadata": {
        "id": "view-in-github",
        "colab_type": "text"
      },
      "source": [
        "<a href=\"https://colab.research.google.com/github/jarmstrong22/AI/blob/main/HW3/Problem2.ipynb\" target=\"_parent\"><img src=\"https://colab.research.google.com/assets/colab-badge.svg\" alt=\"Open In Colab\"/></a>"
      ]
    },
    {
      "cell_type": "code",
      "execution_count": 17,
      "metadata": {
        "colab": {
          "base_uri": "https://localhost:8080/"
        },
        "id": "OizDniLzO4bf",
        "outputId": "7c95582b-fcb9-46e8-ed63-16663cea0cb6"
      },
      "outputs": [
        {
          "output_type": "stream",
          "name": "stdout",
          "text": [
            "Adam\n",
            "['Adam']\n"
          ]
        }
      ],
      "source": [
        "def PotentialFriends(graph, user, secondConnection):\n",
        "    if user not in graph:\n",
        "        return []\n",
        "\n",
        "    visited = set()\n",
        "    queue = [(user, 0)]  # (node, level)\n",
        "    result = []\n",
        "\n",
        "    while queue:\n",
        "        current_user, level = queue.pop(0)\n",
        "\n",
        "        if level <= secondConnection:\n",
        "            for friend in graph[current_user]:\n",
        "                if friend not in visited:\n",
        "                    visited.add(friend)\n",
        "                    queue.append((friend, level + 1))\n",
        "\n",
        "        if level == secondConnection:\n",
        "          if current_user != user:\n",
        "            print(current_user)\n",
        "            result.append(current_user)\n",
        "\n",
        "    return result\n",
        "\n",
        "G = {\n",
        "    'Sophia': ['Maya', 'Maria'],\n",
        "    'Maya': ['Sophia','Maria','David'],\n",
        "    'Maria': ['Maya', 'Sophia', 'David','Adam'],\n",
        "    'Adam': ['Maria'],\n",
        "    'David': ['Maria', 'Maya']\n",
        "}\n",
        "\n",
        "second_connections = 2\n",
        "kth_level_friends = PotentialFriends(G, 'Maya', second_connections)\n",
        "print(kth_level_friends)\n"
      ]
    }
  ]
}