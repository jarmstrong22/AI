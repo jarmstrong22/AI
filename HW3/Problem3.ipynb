{
  "nbformat": 4,
  "nbformat_minor": 0,
  "metadata": {
    "colab": {
      "provenance": [],
      "authorship_tag": "ABX9TyMhPslCxRQVQkPHc2Z01X5N",
      "include_colab_link": true
    },
    "kernelspec": {
      "name": "python3",
      "display_name": "Python 3"
    },
    "language_info": {
      "name": "python"
    }
  },
  "cells": [
    {
      "cell_type": "markdown",
      "metadata": {
        "id": "view-in-github",
        "colab_type": "text"
      },
      "source": [
        "<a href=\"https://colab.research.google.com/github/jarmstrong22/AI/blob/main/HW3/Problem3.ipynb\" target=\"_parent\"><img src=\"https://colab.research.google.com/assets/colab-badge.svg\" alt=\"Open In Colab\"/></a>"
      ]
    },
    {
      "cell_type": "code",
      "execution_count": 3,
      "metadata": {
        "colab": {
          "base_uri": "https://localhost:8080/"
        },
        "id": "esZS1AuYapqP",
        "outputId": "4bfe50a8-58ee-4907-e769-cf8efbe83030"
      },
      "outputs": [
        {
          "output_type": "stream",
          "name": "stdout",
          "text": [
            "SUCCESS\n"
          ]
        }
      ],
      "source": [
        "def dfs(graph, start, goal, visited=None):\n",
        "    if visited is None:\n",
        "        visited = set()\n",
        "    visited.add(start)\n",
        "\n",
        "    if start == goal:\n",
        "        return \"SUCCESS\"\n",
        "\n",
        "    for neighbor in graph.get(start, []):\n",
        "        if neighbor not in visited:\n",
        "            result = dfs(graph, neighbor, goal, visited)\n",
        "            if result == \"SUCCESS\":\n",
        "                return \"SUCCESS\"\n",
        "\n",
        "    return \"FAILURE\"\n",
        "\n",
        "G = {\n",
        "    '1': ['11','2'], '2': ['1','3'], '3': ['2','13'],\n",
        "    '4': ['14','5'], '5': ['4','6'], '6': ['5','16'],\n",
        "    '7': ['17','8'], '8': ['7','9'], '9': ['8','10'],\n",
        "    '10': ['9','20'], '11': ['1','21'], '12':['13'],\n",
        "    '13': ['3','12'], '14': ['15','4'], '15':['25','14'],\n",
        "    '16': ['6','17'], '17': ['16','7','27'], '18':['28'],\n",
        "    '19': ['20','29'], '20': ['10','19'], '21':['11','22'],\n",
        "    '22': ['21','32'], '23': ['33','24'], '24':['23'],\n",
        "    '25': ['35','15','26'], '26': ['25','36'], '27':['17','28'],\n",
        "    '28': ['27','18'], '29': ['19', '39'], '30': ['40'],\n",
        "    '31': ['32','41'], '32': ['31','33'], '33':['23','32'],\n",
        "    '34': ['44', '35'], '35': ['34', '45', '25'],\n",
        "    '36': ['26','37'], '37': ['36'], '38':['39','48'],\n",
        "    '39': ['29','38','40'], '40': ['39','30'], '41':['31','42'],\n",
        "    '42': ['41','43'], '43': ['42','44'], '43':['42','34'],\n",
        "    '44': ['43','34'], '45': ['35','46'], '46':['45'],\n",
        "    '47': ['48'], '48': ['47','38','49'], '49':['48','50'],\n",
        "    '50': ['49']\n",
        "}\n",
        "\n",
        "# Test the DFS algorithm\n",
        "print(dfs(G, '1', '50'))  # Output: SUCCESS"
      ]
    }
  ]
}