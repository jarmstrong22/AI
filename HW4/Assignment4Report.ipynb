{
  "nbformat": 4,
  "nbformat_minor": 0,
  "metadata": {
    "colab": {
      "provenance": []
    },
    "kernelspec": {
      "name": "python3",
      "display_name": "Python 3"
    },
    "language_info": {
      "name": "python"
    }
  },
  "cells": [
    {
      "cell_type": "markdown",
      "source": [
        "Problem 1: Astar algorithm uses f(n) = g(n) + h(n) while GBFS does not consider f(n) or g(n) and goes purely off of hueristics. Therefore in my solution I removed self.f and self.g from init and edited find_path since it is not used in its search. Additionally it was necessary to add a condition to avoid infinite loop, searching nodes that have already been searched"
      ],
      "metadata": {
        "id": "OG1_X66yVkug"
      }
    },
    {
      "cell_type": "markdown",
      "source": [
        "Problem 2:\n",
        "In this solution, I repeated the past experiment and created a GBFS algorithm that uses diagonal steps, makes random moves, and uses Euclidean distance\n",
        "\n",
        "I achieved the diagonal stpes by editing 'directions' to include values that represent diagonal movements. for example, (1,1) is a SE step.\n",
        "\n",
        "For random moves, I used random.shuffle(directions)\n",
        "\n",
        "For Euclidean distance I made the following changes, as seen below\n",
        "\n"
      ],
      "metadata": {
        "id": "dRkBqgr9YPNy"
      }
    },
    {
      "cell_type": "code",
      "source": [
        "(before):  def heuristic(self, pos):\n",
        "        return abs(pos[0] - self.goal_pos[0]) + abs(pos[1] - self.goal_pos[1])"
      ],
      "metadata": {
        "id": "bbFNDB7bdMGA"
      },
      "execution_count": null,
      "outputs": []
    },
    {
      "cell_type": "code",
      "source": [
        "(after): def heuristic(self, pos):\n",
        "        return ((pos[0] - self.goal_pos[0]) ** 2 + (pos[1] - self.goal_pos[1]) ** 2) ** 0.5"
      ],
      "metadata": {
        "id": "qgYrKZwgdRGH"
      },
      "execution_count": null,
      "outputs": []
    },
    {
      "cell_type": "markdown",
      "source": [
        "Problem 3: See table in photos AI/HW4/tablealphaandbeta.\n",
        "- When alpha is 1 and beta is 1, balanced approach, this has no effect on the algorithm.\n",
        "- When alpha is 0 and beta is 1, this becomes equivalent to Dijkstra's algorithm\n",
        "- When alpha is >1 and beta is 1, this resembles Greedy Best First Behavior\n",
        "- When alpha is < 1 and beta is 1, this is less greedy behavior, there is more exploration, and potential for optimal paths"
      ],
      "metadata": {
        "id": "G-gKJb1cgISA"
      }
    }
  ]
}
